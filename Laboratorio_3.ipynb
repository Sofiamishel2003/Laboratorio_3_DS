{
 "cells": [
  {
   "cell_type": "markdown",
   "id": "0c7cd68a",
   "metadata": {},
   "source": [
    "# Laboratorio 3:  \n",
    "## Análisis GeoEspacial y Sensores Remotos  \n",
    "**Monitoreo de Deforestación en la Región de Petén, Guatemala usando Imágenes Sentinel-2**  \n",
    "\n",
    "**Autores:**  \n",
    "- José Rodrigo Marchena – 22398  \n",
    "- Sofía Velasquez – 22049  \n"
   ]
  },
  {
   "cell_type": "code",
   "execution_count": null,
   "id": "4d0c210f",
   "metadata": {},
   "outputs": [
    {
     "name": "stdout",
     "output_type": "stream",
     "text": [
      "Collecting rasterio\n",
      "  Downloading rasterio-1.3.11-cp38-cp38-win_amd64.whl (24.8 MB)\n",
      "Collecting affine\n",
      "  Using cached affine-2.4.0-py3-none-any.whl (15 kB)\n",
      "Collecting attrs\n",
      "  Using cached attrs-25.3.0-py3-none-any.whl (63 kB)\n",
      "Collecting click-plugins\n",
      "  Using cached click_plugins-1.1.1.2-py2.py3-none-any.whl (11 kB)\n",
      "Collecting snuggs>=1.4.1\n",
      "  Downloading snuggs-1.4.7-py3-none-any.whl (5.4 kB)\n",
      "Collecting cligj>=0.5\n",
      "  Using cached cligj-0.7.2-py3-none-any.whl (7.1 kB)\n",
      "Requirement already satisfied: setuptools in c:\\program files\\windowsapps\\pythonsoftwarefoundation.python.3.8_3.8.2800.0_x64__qbz5n2kfra8p0\\lib\\site-packages (from rasterio) (56.0.0)\n",
      "Requirement already satisfied: importlib-metadata in c:\\users\\50250\\appdata\\local\\packages\\pythonsoftwarefoundation.python.3.8_qbz5n2kfra8p0\\localcache\\local-packages\\python38\\site-packages (from rasterio) (8.5.0)\n",
      "Requirement already satisfied: certifi in c:\\users\\50250\\appdata\\local\\packages\\pythonsoftwarefoundation.python.3.8_qbz5n2kfra8p0\\localcache\\local-packages\\python38\\site-packages (from rasterio) (2025.8.3)\n",
      "Requirement already satisfied: numpy in c:\\users\\50250\\appdata\\local\\packages\\pythonsoftwarefoundation.python.3.8_qbz5n2kfra8p0\\localcache\\local-packages\\python38\\site-packages (from rasterio) (1.24.4)\n",
      "Collecting click>=4.0\n",
      "  Using cached click-8.1.8-py3-none-any.whl (98 kB)\n",
      "Requirement already satisfied: colorama in c:\\users\\50250\\appdata\\local\\packages\\pythonsoftwarefoundation.python.3.8_qbz5n2kfra8p0\\localcache\\local-packages\\python38\\site-packages (from click>=4.0->rasterio) (0.4.6)\n",
      "Requirement already satisfied: pyparsing>=2.1.6 in c:\\users\\50250\\appdata\\local\\packages\\pythonsoftwarefoundation.python.3.8_qbz5n2kfra8p0\\localcache\\local-packages\\python38\\site-packages (from snuggs>=1.4.1->rasterio) (3.1.4)\n",
      "Requirement already satisfied: zipp>=3.20 in c:\\users\\50250\\appdata\\local\\packages\\pythonsoftwarefoundation.python.3.8_qbz5n2kfra8p0\\localcache\\local-packages\\python38\\site-packages (from importlib-metadata->rasterio) (3.20.2)\n",
      "Installing collected packages: click, snuggs, cligj, click-plugins, attrs, affine, rasterio\n",
      "Successfully installed affine-2.4.0 attrs-25.3.0 click-8.1.8 click-plugins-1.1.1.2 cligj-0.7.2 rasterio-1.3.11 snuggs-1.4.7\n",
      "Note: you may need to restart the kernel to use updated packages.\n"
     ]
    },
    {
     "name": "stderr",
     "output_type": "stream",
     "text": [
      "WARNING: You are using pip version 21.1.1; however, version 25.0.1 is available.\n",
      "You should consider upgrading via the 'C:\\Users\\50250\\AppData\\Local\\Microsoft\\WindowsApps\\PythonSoftwareFoundation.Python.3.8_qbz5n2kfra8p0\\python.exe -m pip install --upgrade pip' command.\n"
     ]
    }
   ],
   "source": [
    "#!pip install rasterio"
   ]
  },
  {
   "cell_type": "code",
   "execution_count": null,
   "id": "54fd53a6",
   "metadata": {},
   "outputs": [],
   "source": [
    "import rasterio\n",
    "import numpy as np\n",
    "import matplotlib.pyplot as plt\n",
    "\n",
    "# 1. Cargar imágenes con rasterio\n",
    "# Reemplaza las rutas con tus archivos reales .tif\n",
    "ruta_rojo_2020 = \"B4_2020.tif\"\n",
    "ruta_nir_2020 = \"B8_2020.tif\"\n",
    "ruta_rojo_2024 = \"B4_2024.tif\"\n",
    "ruta_nir_2024 = \"B8_2024.tif\"\n",
    "\n",
    "with rasterio.open(ruta_rojo_2020) as src:\n",
    "    rojo_2020 = src.read(1).astype('float32')\n",
    "    profile = src.profile\n",
    "\n",
    "with rasterio.open(ruta_nir_2020) as src:\n",
    "    nir_2020 = src.read(1).astype('float32')\n",
    "\n",
    "with rasterio.open(ruta_rojo_2024) as src:\n",
    "    rojo_2024 = src.read(1).astype('float32')\n",
    "\n",
    "with rasterio.open(ruta_nir_2024) as src:\n",
    "    nir_2024 = src.read(1).astype('float32')\n"
   ]
  },
  {
   "cell_type": "markdown",
   "id": "92bd1cd3",
   "metadata": {},
   "source": [
    "### Parte 3: Cálculo de NDVI y Detección de Cambios"
   ]
  },
  {
   "cell_type": "code",
   "execution_count": null,
   "id": "69150358",
   "metadata": {},
   "outputs": [],
   "source": [
    "# Calcular NDVI para 2020 y 2024\n",
    "ndvi_2020 = (nir_2020 - rojo_2020) / (nir_2020 + rojo_2020 + 1e-10)\n",
    "ndvi_2024 = (nir_2024 - rojo_2024) / (nir_2024 + rojo_2024 + 1e-10)\n",
    "\n",
    "# Imagen de diferencia\n",
    "diferencia_ndvi = ndvi_2024 - ndvi_2020\n",
    "\n",
    "# Umbral para pérdida significativa de vegetación\n",
    "umbral = -0.2\n",
    "mascara_deforestacion = diferencia_ndvi < umbral"
   ]
  },
  {
   "cell_type": "markdown",
   "id": "2e168780",
   "metadata": {},
   "source": [
    "### Parte 4: Visualización y Reporte"
   ]
  },
  {
   "cell_type": "code",
   "execution_count": null,
   "id": "0a014ac1",
   "metadata": {},
   "outputs": [],
   "source": [
    "# Visualizaciones\n",
    "fig, axs = plt.subplots(1, 4, figsize=(20, 6))\n",
    "imgs = [\n",
    "    (ndvi_2020, \"NDVI 2020\"),\n",
    "    (ndvi_2024, \"NDVI 2024\"),\n",
    "    (diferencia_ndvi, \"Diferencia NDVI\"),\n",
    "    (mascara_deforestacion, \"Máscara de Deforestación\")\n",
    "]\n",
    "\n",
    "for ax, (img, title) in zip(axs, imgs):\n",
    "    im = ax.imshow(img, cmap='RdYlGn' if \"NDVI\" in title else 'gray')\n",
    "    ax.set_title(title)\n",
    "    ax.axis('off')\n",
    "    fig.colorbar(im, ax=ax, fraction=0.046, pad=0.04)\n",
    "\n",
    "plt.tight_layout()\n",
    "plt.show()\n"
   ]
  },
  {
   "cell_type": "code",
   "execution_count": null,
   "id": "528d4e58",
   "metadata": {},
   "outputs": [],
   "source": [
    "# 6. Calcular área de deforestación en porcentaje\n",
    "pixeles_totales = mascara_deforestacion.size\n",
    "pixeles_deforestados = np.sum(mascara_deforestacion)\n",
    "porcentaje_deforestacion = (pixeles_deforestados / pixeles_totales) * 100\n",
    "\n",
    "print(f\"Área de deforestación: {porcentaje_deforestacion:.2f}%\")"
   ]
  }
 ],
 "metadata": {
  "kernelspec": {
   "display_name": "Python 3",
   "language": "python",
   "name": "python3"
  },
  "language_info": {
   "codemirror_mode": {
    "name": "ipython",
    "version": 3
   },
   "file_extension": ".py",
   "mimetype": "text/x-python",
   "name": "python",
   "nbconvert_exporter": "python",
   "pygments_lexer": "ipython3",
   "version": "3.8.10"
  }
 },
 "nbformat": 4,
 "nbformat_minor": 5
}
